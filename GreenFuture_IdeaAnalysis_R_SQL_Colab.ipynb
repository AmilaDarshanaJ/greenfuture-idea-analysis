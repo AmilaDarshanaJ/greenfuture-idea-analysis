{
  "nbformat": 4,
  "nbformat_minor": 0,
  "metadata": {
    "colab": {
      "provenance": [],
      "authorship_tag": "ABX9TyN0NmuxYDFSfGMIUcIyglLu",
      "include_colab_link": true
    },
    "kernelspec": {
      "name": "ir",
      "display_name": "R"
    },
    "language_info": {
      "name": "R"
    }
  },
  "cells": [
    {
      "cell_type": "markdown",
      "metadata": {
        "id": "view-in-github",
        "colab_type": "text"
      },
      "source": [
        "<a href=\"https://colab.research.google.com/github/AmilaDarshanaJ/greenfuture-idea-analysis/blob/main/GreenFuture_IdeaAnalysis_R_SQL_Colab.ipynb\" target=\"_parent\"><img src=\"https://colab.research.google.com/assets/colab-badge.svg\" alt=\"Open In Colab\"/></a>"
      ]
    },
    {
      "cell_type": "code",
      "execution_count": 6,
      "metadata": {
        "colab": {
          "base_uri": "https://localhost:8080/"
        },
        "id": "A07HhKIE2D-W",
        "outputId": "90417ac9-899e-497c-b643-495da5b5bdef"
      },
      "outputs": [
        {
          "output_type": "stream",
          "name": "stderr",
          "text": [
            "Installing package into ‘/usr/local/lib/R/site-library’\n",
            "(as ‘lib’ is unspecified)\n",
            "\n",
            "also installing the dependencies ‘plogr’, ‘gsubfn’, ‘proto’, ‘RSQLite’, ‘chron’\n",
            "\n",
            "\n",
            "Installing package into ‘/usr/local/lib/R/site-library’\n",
            "(as ‘lib’ is unspecified)\n",
            "\n",
            "Installing package into ‘/usr/local/lib/R/site-library’\n",
            "(as ‘lib’ is unspecified)\n",
            "\n",
            "Loading required package: gsubfn\n",
            "\n",
            "Loading required package: proto\n",
            "\n",
            "Warning message:\n",
            "“no DISPLAY variable so Tk is not available”\n",
            "Loading required package: RSQLite\n",
            "\n",
            "\n",
            "Attaching package: ‘dplyr’\n",
            "\n",
            "\n",
            "The following objects are masked from ‘package:stats’:\n",
            "\n",
            "    filter, lag\n",
            "\n",
            "\n",
            "The following objects are masked from ‘package:base’:\n",
            "\n",
            "    intersect, setdiff, setequal, union\n",
            "\n",
            "\n"
          ]
        }
      ],
      "source": [
        "install.packages(\"sqldf\")\n",
        "install.packages(\"ggplot2\")\n",
        "install.packages(\"dplyr\")\n",
        "library(sqldf)\n",
        "library(ggplot2)\n",
        "library(dplyr)\n"
      ]
    },
    {
      "cell_type": "code",
      "source": [],
      "metadata": {
        "id": "hLK6R7dwBPov"
      },
      "execution_count": null,
      "outputs": []
    },
    {
      "cell_type": "code",
      "source": [
        "url <- \"https://raw.githubusercontent.com/AmilaDarshanaJ/greenfuture-idea-analysis/refs/heads/main/greenfuture_ideas_dataset.csv\"\n",
        "data <- read.csv(url)\n",
        "\n",
        "head(data)"
      ],
      "metadata": {
        "colab": {
          "base_uri": "https://localhost:8080/",
          "height": 286
        },
        "id": "29tiKw_r2m_f",
        "outputId": "cb32e386-3b92-413b-dc7d-ea644fd86bab"
      },
      "execution_count": 1,
      "outputs": [
        {
          "output_type": "display_data",
          "data": {
            "text/html": [
              "<table class=\"dataframe\">\n",
              "<caption>A data.frame: 6 × 11</caption>\n",
              "<thead>\n",
              "\t<tr><th></th><th scope=col>Employee.ID</th><th scope=col>Office.Location</th><th scope=col>Department</th><th scope=col>Idea.Submission.Date</th><th scope=col>Idea.Title</th><th scope=col>Idea.Category</th><th scope=col>Number.of.Votes</th><th scope=col>Collaboration.Status</th><th scope=col>Approval.Status</th><th scope=col>Implementation.Status</th><th scope=col>Security.Concern.Flag</th></tr>\n",
              "\t<tr><th></th><th scope=col>&lt;chr&gt;</th><th scope=col>&lt;chr&gt;</th><th scope=col>&lt;chr&gt;</th><th scope=col>&lt;chr&gt;</th><th scope=col>&lt;chr&gt;</th><th scope=col>&lt;chr&gt;</th><th scope=col>&lt;int&gt;</th><th scope=col>&lt;chr&gt;</th><th scope=col>&lt;chr&gt;</th><th scope=col>&lt;chr&gt;</th><th scope=col>&lt;chr&gt;</th></tr>\n",
              "</thead>\n",
              "<tbody>\n",
              "\t<tr><th scope=row>1</th><td>587b45d8</td><td>Germany  </td><td>Renewable Energy    </td><td>16/04/2024</td><td>Idea 1</td><td>Sustainable Transport</td><td>231</td><td>Single Contributor </td><td>Pending </td><td>Not Started</td><td>No </td></tr>\n",
              "\t<tr><th scope=row>2</th><td>0d3e8b8e</td><td>Canada   </td><td>Renewable Energy    </td><td>14/01/2024</td><td>Idea 2</td><td>Water Management     </td><td>477</td><td>Cross-Regional Team</td><td>Approved</td><td>In Progress</td><td>No </td></tr>\n",
              "\t<tr><th scope=row>3</th><td>fa012fe7</td><td>France   </td><td>Environmental Policy</td><td>10/01/2025</td><td>Idea 3</td><td>Renewable Energy     </td><td> 48</td><td>Cross-Regional Team</td><td>Approved</td><td>Not Started</td><td>Yes</td></tr>\n",
              "\t<tr><th scope=row>4</th><td>cb8ed680</td><td>Japan    </td><td>Technology          </td><td>24/12/2023</td><td>Idea 4</td><td>Circular Economy     </td><td>330</td><td>Cross-Regional Team</td><td>Approved</td><td>Completed  </td><td>No </td></tr>\n",
              "\t<tr><th scope=row>5</th><td>333fff26</td><td>Australia</td><td>Technology          </td><td>13/02/2025</td><td>Idea 5</td><td>Circular Economy     </td><td>428</td><td>Single Contributor </td><td>Approved</td><td>Not Started</td><td>No </td></tr>\n",
              "\t<tr><th scope=row>6</th><td>a34ebb0f</td><td>India    </td><td>Technology          </td><td>08/09/2024</td><td>Idea 6</td><td>Circular Economy     </td><td>431</td><td>Single Contributor </td><td>Rejected</td><td>Not Started</td><td>No </td></tr>\n",
              "</tbody>\n",
              "</table>\n"
            ],
            "text/markdown": "\nA data.frame: 6 × 11\n\n| <!--/--> | Employee.ID &lt;chr&gt; | Office.Location &lt;chr&gt; | Department &lt;chr&gt; | Idea.Submission.Date &lt;chr&gt; | Idea.Title &lt;chr&gt; | Idea.Category &lt;chr&gt; | Number.of.Votes &lt;int&gt; | Collaboration.Status &lt;chr&gt; | Approval.Status &lt;chr&gt; | Implementation.Status &lt;chr&gt; | Security.Concern.Flag &lt;chr&gt; |\n|---|---|---|---|---|---|---|---|---|---|---|---|\n| 1 | 587b45d8 | Germany   | Renewable Energy     | 16/04/2024 | Idea 1 | Sustainable Transport | 231 | Single Contributor  | Pending  | Not Started | No  |\n| 2 | 0d3e8b8e | Canada    | Renewable Energy     | 14/01/2024 | Idea 2 | Water Management      | 477 | Cross-Regional Team | Approved | In Progress | No  |\n| 3 | fa012fe7 | France    | Environmental Policy | 10/01/2025 | Idea 3 | Renewable Energy      |  48 | Cross-Regional Team | Approved | Not Started | Yes |\n| 4 | cb8ed680 | Japan     | Technology           | 24/12/2023 | Idea 4 | Circular Economy      | 330 | Cross-Regional Team | Approved | Completed   | No  |\n| 5 | 333fff26 | Australia | Technology           | 13/02/2025 | Idea 5 | Circular Economy      | 428 | Single Contributor  | Approved | Not Started | No  |\n| 6 | a34ebb0f | India     | Technology           | 08/09/2024 | Idea 6 | Circular Economy      | 431 | Single Contributor  | Rejected | Not Started | No  |\n\n",
            "text/latex": "A data.frame: 6 × 11\n\\begin{tabular}{r|lllllllllll}\n  & Employee.ID & Office.Location & Department & Idea.Submission.Date & Idea.Title & Idea.Category & Number.of.Votes & Collaboration.Status & Approval.Status & Implementation.Status & Security.Concern.Flag\\\\\n  & <chr> & <chr> & <chr> & <chr> & <chr> & <chr> & <int> & <chr> & <chr> & <chr> & <chr>\\\\\n\\hline\n\t1 & 587b45d8 & Germany   & Renewable Energy     & 16/04/2024 & Idea 1 & Sustainable Transport & 231 & Single Contributor  & Pending  & Not Started & No \\\\\n\t2 & 0d3e8b8e & Canada    & Renewable Energy     & 14/01/2024 & Idea 2 & Water Management      & 477 & Cross-Regional Team & Approved & In Progress & No \\\\\n\t3 & fa012fe7 & France    & Environmental Policy & 10/01/2025 & Idea 3 & Renewable Energy      &  48 & Cross-Regional Team & Approved & Not Started & Yes\\\\\n\t4 & cb8ed680 & Japan     & Technology           & 24/12/2023 & Idea 4 & Circular Economy      & 330 & Cross-Regional Team & Approved & Completed   & No \\\\\n\t5 & 333fff26 & Australia & Technology           & 13/02/2025 & Idea 5 & Circular Economy      & 428 & Single Contributor  & Approved & Not Started & No \\\\\n\t6 & a34ebb0f & India     & Technology           & 08/09/2024 & Idea 6 & Circular Economy      & 431 & Single Contributor  & Rejected & Not Started & No \\\\\n\\end{tabular}\n",
            "text/plain": [
              "  Employee.ID Office.Location Department           Idea.Submission.Date\n",
              "1 587b45d8    Germany         Renewable Energy     16/04/2024          \n",
              "2 0d3e8b8e    Canada          Renewable Energy     14/01/2024          \n",
              "3 fa012fe7    France          Environmental Policy 10/01/2025          \n",
              "4 cb8ed680    Japan           Technology           24/12/2023          \n",
              "5 333fff26    Australia       Technology           13/02/2025          \n",
              "6 a34ebb0f    India           Technology           08/09/2024          \n",
              "  Idea.Title Idea.Category         Number.of.Votes Collaboration.Status\n",
              "1 Idea 1     Sustainable Transport 231             Single Contributor  \n",
              "2 Idea 2     Water Management      477             Cross-Regional Team \n",
              "3 Idea 3     Renewable Energy       48             Cross-Regional Team \n",
              "4 Idea 4     Circular Economy      330             Cross-Regional Team \n",
              "5 Idea 5     Circular Economy      428             Single Contributor  \n",
              "6 Idea 6     Circular Economy      431             Single Contributor  \n",
              "  Approval.Status Implementation.Status Security.Concern.Flag\n",
              "1 Pending         Not Started           No                   \n",
              "2 Approved        In Progress           No                   \n",
              "3 Approved        Not Started           Yes                  \n",
              "4 Approved        Completed             No                   \n",
              "5 Approved        Not Started           No                   \n",
              "6 Rejected        Not Started           No                   "
            ]
          },
          "metadata": {}
        }
      ]
    },
    {
      "cell_type": "code",
      "source": [
        "# Insert 1: Add a new idea from Berlin office\n",
        "new_idea1 <- data.frame(\n",
        "  Employee.ID = 3001,\n",
        "  Office.Location = \"Berlin\",\n",
        "  Department = \"Sustainability\",\n",
        "  Idea.Submission.Date = \"2025-01-15\",\n",
        "  Idea.Title = \"Urban Rooftop Farming\",\n",
        "  Idea.Category = \"Agriculture\",\n",
        "  Number.of.Votes = 85,\n",
        "  Collaboration.Status = \"Yes\",\n",
        "  Approval.Status = \"Pending\",\n",
        "  Implementation.Status = \"Proposed\",\n",
        "  Security.Concern.Flag = \"No\"\n",
        ")\n",
        "\n",
        "# Insert 2: Add a new idea from Nairobi office\n",
        "new_idea2 <- data.frame(\n",
        "  Employee.ID = 3002,\n",
        "  Office.Location = \"Nairobi\",\n",
        "  Department = \"Energy\",\n",
        "  Idea.Submission.Date = \"2025-01-20\",\n",
        "  Idea.Title = \"Solar Microgrids\",\n",
        "  Idea.Category = \"Energy\",\n",
        "  Number.of.Votes = 90,\n",
        "  Collaboration.Status = \"No\",\n",
        "  Approval.Status = \"Approved\",\n",
        "  Implementation.Status = \"Implemented\",\n",
        "  Security.Concern.Flag = \"Yes\"\n",
        ")\n",
        "\n",
        "# Apply both inserts\n",
        "data <- rbind(data, new_idea1, new_idea2)\n",
        "\n",
        "# SELECT: Show inserted ideas\n",
        "sql <- \"SELECT * FROM data WHERE Employee.ID IN (3001, 3002)\"\n",
        "\n",
        "# UPDATE: Increase votes for \"Solar Microgrids\"\n",
        "# Corrected column names: Number.of.Votes and Employee.ID\n",
        "data$Number.of.Votes[data$Employee.ID == 3002] <- 100\n",
        "\n",
        "# DELETE: Remove \"Urban Rooftop Farming\" idea (if required)\n",
        "# Corrected column name: Employee.ID\n",
        "data <- data[data$Employee.ID != 3001, ]\n",
        "\n",
        "print(data[data$Employee.ID == 3002, ])"
      ],
      "metadata": {
        "id": "DMykcAoLBh7k",
        "colab": {
          "base_uri": "https://localhost:8080/"
        },
        "outputId": "89f9a5e5-d712-482c-f4cd-5be4fd5bf6a0"
      },
      "execution_count": 2,
      "outputs": [
        {
          "output_type": "stream",
          "name": "stdout",
          "text": [
            "     Employee.ID Office.Location Department Idea.Submission.Date\n",
            "3002        3002         Nairobi     Energy           2025-01-20\n",
            "           Idea.Title Idea.Category Number.of.Votes Collaboration.Status\n",
            "3002 Solar Microgrids        Energy             100                   No\n",
            "     Approval.Status Implementation.Status Security.Concern.Flag\n",
            "3002        Approved           Implemented                   Yes\n"
          ]
        }
      ]
    },
    {
      "cell_type": "code",
      "source": [
        "# Average votes per department\n",
        "sqldf(\"SELECT `Department`, AVG(`Number.of.Votes`) AS avg_votes\n",
        "       FROM data\n",
        "       GROUP BY `Department`\")"
      ],
      "metadata": {
        "colab": {
          "base_uri": "https://localhost:8080/",
          "height": 318
        },
        "id": "CFb66OEh2DtD",
        "outputId": "1f3f0a6e-6e28-4225-e2fc-5ae8e80848b2"
      },
      "execution_count": 7,
      "outputs": [
        {
          "output_type": "display_data",
          "data": {
            "text/html": [
              "<table class=\"dataframe\">\n",
              "<caption>A data.frame: 7 × 2</caption>\n",
              "<thead>\n",
              "\t<tr><th scope=col>Department</th><th scope=col>avg_votes</th></tr>\n",
              "\t<tr><th scope=col>&lt;chr&gt;</th><th scope=col>&lt;dbl&gt;</th></tr>\n",
              "</thead>\n",
              "<tbody>\n",
              "\t<tr><td>Energy              </td><td>100.0000</td></tr>\n",
              "\t<tr><td>Environmental Policy</td><td>252.9259</td></tr>\n",
              "\t<tr><td>Infrastructure      </td><td>243.6892</td></tr>\n",
              "\t<tr><td>Renewable Energy    </td><td>246.6316</td></tr>\n",
              "\t<tr><td>Research            </td><td>248.5803</td></tr>\n",
              "\t<tr><td>Technology          </td><td>248.0460</td></tr>\n",
              "\t<tr><td>Urban Development   </td><td>250.7551</td></tr>\n",
              "</tbody>\n",
              "</table>\n"
            ],
            "text/markdown": "\nA data.frame: 7 × 2\n\n| Department &lt;chr&gt; | avg_votes &lt;dbl&gt; |\n|---|---|\n| Energy               | 100.0000 |\n| Environmental Policy | 252.9259 |\n| Infrastructure       | 243.6892 |\n| Renewable Energy     | 246.6316 |\n| Research             | 248.5803 |\n| Technology           | 248.0460 |\n| Urban Development    | 250.7551 |\n\n",
            "text/latex": "A data.frame: 7 × 2\n\\begin{tabular}{ll}\n Department & avg\\_votes\\\\\n <chr> & <dbl>\\\\\n\\hline\n\t Energy               & 100.0000\\\\\n\t Environmental Policy & 252.9259\\\\\n\t Infrastructure       & 243.6892\\\\\n\t Renewable Energy     & 246.6316\\\\\n\t Research             & 248.5803\\\\\n\t Technology           & 248.0460\\\\\n\t Urban Development    & 250.7551\\\\\n\\end{tabular}\n",
            "text/plain": [
              "  Department           avg_votes\n",
              "1 Energy               100.0000 \n",
              "2 Environmental Policy 252.9259 \n",
              "3 Infrastructure       243.6892 \n",
              "4 Renewable Energy     246.6316 \n",
              "5 Research             248.5803 \n",
              "6 Technology           248.0460 \n",
              "7 Urban Development    250.7551 "
            ]
          },
          "metadata": {}
        }
      ]
    },
    {
      "cell_type": "code",
      "source": [
        "# Total votes by idea category\n",
        "sqldf(\"SELECT `Idea.Category`, SUM(`Number.of.Votes`) AS total_votes\n",
        "       FROM data\n",
        "       GROUP BY `Idea.Category`\")"
      ],
      "metadata": {
        "colab": {
          "base_uri": "https://localhost:8080/",
          "height": 318
        },
        "id": "yJKoq1HSfr78",
        "outputId": "995dc198-f8c3-45a9-e3f5-90e4507e4eb2"
      },
      "execution_count": 8,
      "outputs": [
        {
          "output_type": "display_data",
          "data": {
            "text/html": [
              "<table class=\"dataframe\">\n",
              "<caption>A data.frame: 7 × 2</caption>\n",
              "<thead>\n",
              "\t<tr><th scope=col>Idea.Category</th><th scope=col>total_votes</th></tr>\n",
              "\t<tr><th scope=col>&lt;chr&gt;</th><th scope=col>&lt;dbl&gt;</th></tr>\n",
              "</thead>\n",
              "<tbody>\n",
              "\t<tr><td>Carbon Capture       </td><td>119102</td></tr>\n",
              "\t<tr><td>Circular Economy     </td><td>121904</td></tr>\n",
              "\t<tr><td>Energy               </td><td>   100</td></tr>\n",
              "\t<tr><td>Renewable Energy     </td><td>132103</td></tr>\n",
              "\t<tr><td>Smart Cities         </td><td>119684</td></tr>\n",
              "\t<tr><td>Sustainable Transport</td><td>126480</td></tr>\n",
              "\t<tr><td>Water Management     </td><td>125774</td></tr>\n",
              "</tbody>\n",
              "</table>\n"
            ],
            "text/markdown": "\nA data.frame: 7 × 2\n\n| Idea.Category &lt;chr&gt; | total_votes &lt;dbl&gt; |\n|---|---|\n| Carbon Capture        | 119102 |\n| Circular Economy      | 121904 |\n| Energy                |    100 |\n| Renewable Energy      | 132103 |\n| Smart Cities          | 119684 |\n| Sustainable Transport | 126480 |\n| Water Management      | 125774 |\n\n",
            "text/latex": "A data.frame: 7 × 2\n\\begin{tabular}{ll}\n Idea.Category & total\\_votes\\\\\n <chr> & <dbl>\\\\\n\\hline\n\t Carbon Capture        & 119102\\\\\n\t Circular Economy      & 121904\\\\\n\t Energy                &    100\\\\\n\t Renewable Energy      & 132103\\\\\n\t Smart Cities          & 119684\\\\\n\t Sustainable Transport & 126480\\\\\n\t Water Management      & 125774\\\\\n\\end{tabular}\n",
            "text/plain": [
              "  Idea.Category         total_votes\n",
              "1 Carbon Capture        119102     \n",
              "2 Circular Economy      121904     \n",
              "3 Energy                   100     \n",
              "4 Renewable Energy      132103     \n",
              "5 Smart Cities          119684     \n",
              "6 Sustainable Transport 126480     \n",
              "7 Water Management      125774     "
            ]
          },
          "metadata": {}
        }
      ]
    },
    {
      "cell_type": "code",
      "source": [
        "# Number of ideas submitted per office location\n",
        "sqldf(\"SELECT `Office.Location`, COUNT(*) AS ideas_submitted\n",
        "       FROM data\n",
        "       GROUP BY `Office.Location`\")"
      ],
      "metadata": {
        "colab": {
          "base_uri": "https://localhost:8080/",
          "height": 506
        },
        "id": "uktXTYamhgsl",
        "outputId": "227f1970-faa1-45e3-bedb-81215801cf62"
      },
      "execution_count": 9,
      "outputs": [
        {
          "output_type": "display_data",
          "data": {
            "text/html": [
              "<table class=\"dataframe\">\n",
              "<caption>A data.frame: 13 × 2</caption>\n",
              "<thead>\n",
              "\t<tr><th scope=col>Office.Location</th><th scope=col>ideas_submitted</th></tr>\n",
              "\t<tr><th scope=col>&lt;chr&gt;</th><th scope=col>&lt;int&gt;</th></tr>\n",
              "</thead>\n",
              "<tbody>\n",
              "\t<tr><td>Australia   </td><td>244</td></tr>\n",
              "\t<tr><td>Brazil      </td><td>227</td></tr>\n",
              "\t<tr><td>Canada      </td><td>252</td></tr>\n",
              "\t<tr><td>China       </td><td>280</td></tr>\n",
              "\t<tr><td>France      </td><td>266</td></tr>\n",
              "\t<tr><td>Germany     </td><td>252</td></tr>\n",
              "\t<tr><td>India       </td><td>222</td></tr>\n",
              "\t<tr><td>Japan       </td><td>259</td></tr>\n",
              "\t<tr><td>Mexico      </td><td>240</td></tr>\n",
              "\t<tr><td>Nairobi     </td><td>  1</td></tr>\n",
              "\t<tr><td>South Africa</td><td>260</td></tr>\n",
              "\t<tr><td>UK          </td><td>257</td></tr>\n",
              "\t<tr><td>USA         </td><td>241</td></tr>\n",
              "</tbody>\n",
              "</table>\n"
            ],
            "text/markdown": "\nA data.frame: 13 × 2\n\n| Office.Location &lt;chr&gt; | ideas_submitted &lt;int&gt; |\n|---|---|\n| Australia    | 244 |\n| Brazil       | 227 |\n| Canada       | 252 |\n| China        | 280 |\n| France       | 266 |\n| Germany      | 252 |\n| India        | 222 |\n| Japan        | 259 |\n| Mexico       | 240 |\n| Nairobi      |   1 |\n| South Africa | 260 |\n| UK           | 257 |\n| USA          | 241 |\n\n",
            "text/latex": "A data.frame: 13 × 2\n\\begin{tabular}{ll}\n Office.Location & ideas\\_submitted\\\\\n <chr> & <int>\\\\\n\\hline\n\t Australia    & 244\\\\\n\t Brazil       & 227\\\\\n\t Canada       & 252\\\\\n\t China        & 280\\\\\n\t France       & 266\\\\\n\t Germany      & 252\\\\\n\t India        & 222\\\\\n\t Japan        & 259\\\\\n\t Mexico       & 240\\\\\n\t Nairobi      &   1\\\\\n\t South Africa & 260\\\\\n\t UK           & 257\\\\\n\t USA          & 241\\\\\n\\end{tabular}\n",
            "text/plain": [
              "   Office.Location ideas_submitted\n",
              "1  Australia       244            \n",
              "2  Brazil          227            \n",
              "3  Canada          252            \n",
              "4  China           280            \n",
              "5  France          266            \n",
              "6  Germany         252            \n",
              "7  India           222            \n",
              "8  Japan           259            \n",
              "9  Mexico          240            \n",
              "10 Nairobi           1            \n",
              "11 South Africa    260            \n",
              "12 UK              257            \n",
              "13 USA             241            "
            ]
          },
          "metadata": {}
        }
      ]
    }
  ]
}